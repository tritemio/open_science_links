{
 "cells": [
  {
   "cell_type": "markdown",
   "metadata": {},
   "source": [
    "# Articles\n",
    "\n",
    "* [Single Molecule Analysis Research Tool (SMART)](http://www.plosone.org/article/info%3Adoi%2F10.1371%2Fjournal.pone.0030024)\n",
    "* [BOBA FRET: Bootstrap-Based Analysis of Single-Molecule FRET Data](http://www.plosone.org/article/info%3Adoi%2F10.1371%2Fjournal.pone.0084157)\n",
    "* [An automated and reproducible workflow for running and analyzing neural simulations using Lancet and IPython Notebook](http://dx.doi.org/10.3389/fninf.2013.00044)\n",
    "\n",
    "# NIH Policies:\n",
    "\n",
    "* [Policy: NIH plans to enhance reproducibility](http://www.nature.com/news/policy-nih-plans-to-enhance-reproducibility-1.14586)\n",
    "\n",
    "# Data policies\n",
    "* [Data Access for the Open Access Literature: PLOS's Data Policy](http://www.plosbiology.org/article/info%3Adoi%2F10.1371%2Fjournal.pbio.1001797)\n",
    "\n",
    "# Open data/open science\n",
    "\n",
    "* [What's the point of open academic data? Who will it affect?](http://figshare.com/blog/What_s_the_point_of_open_academic_data_Who_will_it_affect_/144)\n",
    "\n",
    "# Policies and editorials\n",
    "\n",
    "Plos One policies:\n",
    "\n",
    "* [PLOS Editorial and Publishing Policies](http://www.plosone.org/static/policies.action)\n",
    "\n",
    "Plos One policies for software papers:\n",
    "\n",
    "* http://www.plosone.org/static/editorial#methods\n",
    "* http://www.plosone.org/static/guidelines#software\n",
    "\n",
    "Nature & Nature methods\n",
    "\n",
    "* [Code share](http://www.nature.com/news/code-share-1.16232)\n",
    "* [Publish your computer code: it is good enough](http://www.nature.com/news/2010/101013/full/467753a.html)\n",
    "* [Guidelines for algorithms and software in Nature Methods](http://blogs.nature.com/methagora/2014/02/guidelines-for-algorithms-and-software-in-nature-methods.html)\n",
    "* [Here there be software](http://blogs.nature.com/methagora/2014/02/here-there-be-software.html)\n",
    "\n",
    "\n",
    "PLOS Computational biology\n",
    "\n",
    "* [Ten Simple Rules for the Open Development of Scientific Software](http://www.ploscompbiol.org/article/info%3Adoi%2F10.1371%2Fjournal.pcbi.1002802)\n",
    "\n",
    "* [The PLOS Computational Biology Software Section ](http://www.ploscompbiol.org/article/info%3Adoi%2F10.1371%2Fjournal.pcbi.1002799#s3)\n",
    "\n",
    "Science\n",
    "\n",
    "* [Troubling Trends in Scientific Software Use](http://dx.doi.org/10.1126/science.1231535)\n",
    "* [Optimizing Peer Review of Software Code](http://dx.doi.org/10.1126/science.341.6143.236-b)\n",
    "\n",
    "Source code for Biology and Medicine\n",
    "\n",
    "* [Changing computational research. The challenges ahead](http://dx.doi.org/10.1186/1751-0473-7-2)"
   ]
  },
  {
   "cell_type": "markdown",
   "metadata": {},
   "source": [
    "# Articles on software development\n",
    "\n",
    "Nature\n",
    "\n",
    "* [Computational science: ...Error](http://www.nature.com/news/2010/101013/full/467775a.html)\n",
    "\n",
    "Software carpentry\n",
    "\n",
    "* [Best Practices for Scientific Computing](http://arxiv.org/abs/1210.0530)\n",
    "\n",
    "PLOS Biology\n",
    "\n",
    "* [Best Practices for Scientific Computing](http://www.plosbiology.org/article/info%3Adoi%2F10.1371%2Fjournal.pbio.1001745)\n",
    "\n",
    "PLOS Computational biology\n",
    "\n",
    "* [A Quick Guide to Software Licensing for the Scientist-Programmer](http://www.ploscompbiol.org/article/info%3Adoi%2F10.1371%2Fjournal.pcbi.1002598)\n",
    "* [A Quick Guide for Developing Effective Bioinformatics Programming Skills](http://www.ploscompbiol.org/article/info%3Adoi%2F10.1371%2Fjournal.pcbi.1000589)\n",
    "\n",
    "Journal of Computational Science\n",
    "\n",
    "* [Publishing scientific software matters](http://www.sciencedirect.com/science/article/pii/S1877750313000938)\n",
    "\n",
    "## Donoho publications\n",
    "\n",
    "* [WaveLab and Reproducible Research](http://link.springer.com/chapter/10.1007%2F978-1-4612-2544-7_5) Lecture Notes in Statistics Volume 103, 1995, pp 55-81\n",
    "\n"
   ]
  },
  {
   "cell_type": "markdown",
   "metadata": {},
   "source": [
    "# On retractions due to faulty software\n",
    "\n",
    "Science\n",
    "\n",
    "* [A Scientist's Nightmare: Software Problem Leads to Five Retractions](http://www.sciencemag.org/content/314/5807/1856.full.pdf?sid=9f052b2c-a3f3-4444-b271-5881420b0fca)\n",
    "\n",
    "\n",
    "# Software-only journals\n",
    "\n",
    "* [Source Code for Biology and Medicine: Open Research Computation](http://www.scfbm.org/series/ORC) \n",
    "\n",
    "* [Journal of Statistical Software](http://www.jstatsoft.org/)\n",
    "\n",
    "* [Journal of Open Research Software](http://openresearchsoftware.metajnl.com/)\n",
    "\n",
    "# Dataset paper\n",
    "\n",
    "* [Data](http://www.mdpi.com/journal/data/)"
   ]
  },
  {
   "cell_type": "markdown",
   "metadata": {},
   "source": [
    "## Python ecosystem\n",
    "\n",
    "### Nature\n",
    "* [Research tools: Jump off the page](http://www.nature.com/naturejobs/science/articles/10.1038/nj7493-523a)\n",
    "* [Interactive notebooks: Sharing the code](http://www.nature.com/news/interactive-notebooks-sharing-the-code-1.16261)\n",
    "* [Programming: Pick up Python](http://www.nature.com/news/programming-pick-up-python-1.16833)"
   ]
  },
  {
   "cell_type": "markdown",
   "metadata": {},
   "source": [
    "## Version control\n",
    "\n",
    "### Nature\n",
    "\n",
    "* [Nuclear engineer Katy Huff on version-control systems](http://www.nature.com/news/my-digital-toolbox-nuclear-engineer-katy-huff-on-version-control-systems-1.16014)\n",
    "\n",
    "### Source code for biology and medicine\n",
    "\n",
    "* [Git can facilitate greater reproducibility and increased transparency in science](http://www.scfbm.org/content/8/1/7)"
   ]
  },
  {
   "cell_type": "markdown",
   "metadata": {
    "collapsed": false
   },
   "source": [
    "# Code review\n",
    "* [Rule rewrite aims to clean up scientific software](http://www.nature.com/news/rule-rewrite-aims-to-clean-up-scientific-software-1.17323)"
   ]
  },
  {
   "cell_type": "markdown",
   "metadata": {
    "collapsed": true
   },
   "source": [
    "# Open Science\n",
    "\n",
    "- [The Paperless Lab](http://www.sciencemag.org/site/products/lst_20140613.xhtml)\n",
    "- [Introduction to Open Science: Why data versioning and data care practices are key for science and social science](http://blogs.lse.ac.uk/impactofsocialsciences/2015/02/09/data-versioning-open-science/)"
   ]
  },
  {
   "cell_type": "code",
   "execution_count": null,
   "metadata": {
    "collapsed": true
   },
   "outputs": [],
   "source": []
  }
 ],
 "metadata": {
  "kernelspec": {
   "display_name": "Python 3",
   "language": "python",
   "name": "python3"
  },
  "language_info": {
   "codemirror_mode": {
    "name": "ipython",
    "version": 3
   },
   "file_extension": ".py",
   "mimetype": "text/x-python",
   "name": "python",
   "nbconvert_exporter": "python",
   "pygments_lexer": "ipython3",
   "version": "3.4.3"
  }
 },
 "nbformat": 4,
 "nbformat_minor": 0
}
